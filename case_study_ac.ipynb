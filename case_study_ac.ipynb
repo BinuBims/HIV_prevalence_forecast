{
 "cells": [
  {
   "cell_type": "code",
   "execution_count": 13,
   "id": "empirical-wales",
   "metadata": {},
   "outputs": [],
   "source": [
    "import pandas as pd\n",
    "import matplotlib.pyplot as plt\n",
    "import numpy as np\n",
    "import sklearn\n",
    "import seaborn as sns"
   ]
  },
  {
   "cell_type": "code",
   "execution_count": 4,
   "id": "miniature-compound",
   "metadata": {},
   "outputs": [
    {
     "data": {
      "text/html": [
       "<div>\n",
       "<style scoped>\n",
       "    .dataframe tbody tr th:only-of-type {\n",
       "        vertical-align: middle;\n",
       "    }\n",
       "\n",
       "    .dataframe tbody tr th {\n",
       "        vertical-align: top;\n",
       "    }\n",
       "\n",
       "    .dataframe thead th {\n",
       "        text-align: right;\n",
       "    }\n",
       "</style>\n",
       "<table border=\"1\" class=\"dataframe\">\n",
       "  <thead>\n",
       "    <tr style=\"text-align: right;\">\n",
       "      <th></th>\n",
       "      <th>Unnamed: 0</th>\n",
       "      <th>county_code</th>\n",
       "      <th>COUNTY</th>\n",
       "      <th>STATEABBREVIATION</th>\n",
       "      <th>YEAR</th>\n",
       "      <th>AMAT_fac</th>\n",
       "      <th>HIVdiagnoses</th>\n",
       "      <th>HIVincidence</th>\n",
       "      <th>HIVprevalence</th>\n",
       "      <th>MH_fac</th>\n",
       "      <th>...</th>\n",
       "      <th>pctunmetneed</th>\n",
       "      <th>nonmedpain</th>\n",
       "      <th>ADULTMEN</th>\n",
       "      <th>MSM12MTH</th>\n",
       "      <th>MSM5YEAR</th>\n",
       "      <th>%msm12month</th>\n",
       "      <th>%msm5yr</th>\n",
       "      <th>unemployment_rate</th>\n",
       "      <th>poverty_rate</th>\n",
       "      <th>household_income</th>\n",
       "    </tr>\n",
       "  </thead>\n",
       "  <tbody>\n",
       "    <tr>\n",
       "      <th>0</th>\n",
       "      <td>0</td>\n",
       "      <td>1001</td>\n",
       "      <td>Autauga County</td>\n",
       "      <td>AL</td>\n",
       "      <td>2015</td>\n",
       "      <td>0.0</td>\n",
       "      <td>5.0</td>\n",
       "      <td>10.9</td>\n",
       "      <td>225.5</td>\n",
       "      <td>1.0</td>\n",
       "      <td>...</td>\n",
       "      <td>95.70</td>\n",
       "      <td>5.12</td>\n",
       "      <td>19410</td>\n",
       "      <td>333</td>\n",
       "      <td>514</td>\n",
       "      <td>1.715611</td>\n",
       "      <td>2.648120</td>\n",
       "      <td>8.5</td>\n",
       "      <td>12.8</td>\n",
       "      <td>20304</td>\n",
       "    </tr>\n",
       "    <tr>\n",
       "      <th>1</th>\n",
       "      <td>1</td>\n",
       "      <td>1003</td>\n",
       "      <td>Baldwin County</td>\n",
       "      <td>AL</td>\n",
       "      <td>2015</td>\n",
       "      <td>0.0</td>\n",
       "      <td>15.0</td>\n",
       "      <td>8.7</td>\n",
       "      <td>163.9</td>\n",
       "      <td>4.0</td>\n",
       "      <td>...</td>\n",
       "      <td>91.34</td>\n",
       "      <td>5.27</td>\n",
       "      <td>69724</td>\n",
       "      <td>925</td>\n",
       "      <td>1429</td>\n",
       "      <td>1.326659</td>\n",
       "      <td>2.049509</td>\n",
       "      <td>8.6</td>\n",
       "      <td>13.8</td>\n",
       "      <td>73058</td>\n",
       "    </tr>\n",
       "    <tr>\n",
       "      <th>2</th>\n",
       "      <td>2</td>\n",
       "      <td>1005</td>\n",
       "      <td>Barbour County</td>\n",
       "      <td>AL</td>\n",
       "      <td>2015</td>\n",
       "      <td>0.0</td>\n",
       "      <td>0.0</td>\n",
       "      <td>0.0</td>\n",
       "      <td>436.0</td>\n",
       "      <td>1.0</td>\n",
       "      <td>...</td>\n",
       "      <td>91.34</td>\n",
       "      <td>5.27</td>\n",
       "      <td>11567</td>\n",
       "      <td>82</td>\n",
       "      <td>127</td>\n",
       "      <td>0.708913</td>\n",
       "      <td>1.097951</td>\n",
       "      <td>14.2</td>\n",
       "      <td>24.1</td>\n",
       "      <td>9145</td>\n",
       "    </tr>\n",
       "    <tr>\n",
       "      <th>3</th>\n",
       "      <td>3</td>\n",
       "      <td>1007</td>\n",
       "      <td>Bibb County</td>\n",
       "      <td>AL</td>\n",
       "      <td>2015</td>\n",
       "      <td>0.0</td>\n",
       "      <td>0.0</td>\n",
       "      <td>0.0</td>\n",
       "      <td>191.9</td>\n",
       "      <td>0.0</td>\n",
       "      <td>...</td>\n",
       "      <td>91.86</td>\n",
       "      <td>5.62</td>\n",
       "      <td>9508</td>\n",
       "      <td>119</td>\n",
       "      <td>184</td>\n",
       "      <td>1.251578</td>\n",
       "      <td>1.935212</td>\n",
       "      <td>10.9</td>\n",
       "      <td>17.0</td>\n",
       "      <td>7078</td>\n",
       "    </tr>\n",
       "    <tr>\n",
       "      <th>4</th>\n",
       "      <td>4</td>\n",
       "      <td>1009</td>\n",
       "      <td>Blount County</td>\n",
       "      <td>AL</td>\n",
       "      <td>2015</td>\n",
       "      <td>0.0</td>\n",
       "      <td>5.0</td>\n",
       "      <td>10.4</td>\n",
       "      <td>95.4</td>\n",
       "      <td>1.0</td>\n",
       "      <td>...</td>\n",
       "      <td>91.86</td>\n",
       "      <td>5.62</td>\n",
       "      <td>21368</td>\n",
       "      <td>601</td>\n",
       "      <td>928</td>\n",
       "      <td>2.812617</td>\n",
       "      <td>4.342943</td>\n",
       "      <td>9.3</td>\n",
       "      <td>17.3</td>\n",
       "      <td>20934</td>\n",
       "    </tr>\n",
       "  </tbody>\n",
       "</table>\n",
       "<p>5 rows × 39 columns</p>\n",
       "</div>"
      ],
      "text/plain": [
       "   Unnamed: 0  county_code          COUNTY STATEABBREVIATION  YEAR  AMAT_fac  \\\n",
       "0           0         1001  Autauga County                AL  2015       0.0   \n",
       "1           1         1003  Baldwin County                AL  2015       0.0   \n",
       "2           2         1005  Barbour County                AL  2015       0.0   \n",
       "3           3         1007     Bibb County                AL  2015       0.0   \n",
       "4           4         1009   Blount County                AL  2015       0.0   \n",
       "\n",
       "   HIVdiagnoses  HIVincidence  HIVprevalence  MH_fac  ...  pctunmetneed  \\\n",
       "0           5.0          10.9          225.5     1.0  ...         95.70   \n",
       "1          15.0           8.7          163.9     4.0  ...         91.34   \n",
       "2           0.0           0.0          436.0     1.0  ...         91.34   \n",
       "3           0.0           0.0          191.9     0.0  ...         91.86   \n",
       "4           5.0          10.4           95.4     1.0  ...         91.86   \n",
       "\n",
       "   nonmedpain  ADULTMEN  MSM12MTH  MSM5YEAR  %msm12month   %msm5yr  \\\n",
       "0        5.12     19410       333       514     1.715611  2.648120   \n",
       "1        5.27     69724       925      1429     1.326659  2.049509   \n",
       "2        5.27     11567        82       127     0.708913  1.097951   \n",
       "3        5.62      9508       119       184     1.251578  1.935212   \n",
       "4        5.62     21368       601       928     2.812617  4.342943   \n",
       "\n",
       "   unemployment_rate  poverty_rate  household_income  \n",
       "0                8.5          12.8             20304  \n",
       "1                8.6          13.8             73058  \n",
       "2               14.2          24.1              9145  \n",
       "3               10.9          17.0              7078  \n",
       "4                9.3          17.3             20934  \n",
       "\n",
       "[5 rows x 39 columns]"
      ]
     },
     "execution_count": 4,
     "metadata": {},
     "output_type": "execute_result"
    }
   ],
   "source": [
    "df_main = pd.read_csv('merged_df.csv')\n",
    "df_main.head()"
   ]
  },
  {
   "cell_type": "code",
   "execution_count": 5,
   "id": "following-museum",
   "metadata": {},
   "outputs": [
    {
     "name": "stdout",
     "output_type": "stream",
     "text": [
      "<class 'pandas.core.frame.DataFrame'>\n",
      "RangeIndex: 3140 entries, 0 to 3139\n",
      "Data columns (total 39 columns):\n",
      " #   Column             Non-Null Count  Dtype  \n",
      "---  ------             --------------  -----  \n",
      " 0   Unnamed: 0         3140 non-null   int64  \n",
      " 1   county_code        3140 non-null   int64  \n",
      " 2   COUNTY             3140 non-null   object \n",
      " 3   STATEABBREVIATION  3140 non-null   object \n",
      " 4   YEAR               3140 non-null   int64  \n",
      " 5   AMAT_fac           3140 non-null   float64\n",
      " 6   HIVdiagnoses       3140 non-null   float64\n",
      " 7   HIVincidence       3140 non-null   float64\n",
      " 8   HIVprevalence      3140 non-null   float64\n",
      " 9   MH_fac             3140 non-null   float64\n",
      " 10  Med_AMAT_fac       3140 non-null   float64\n",
      " 11  Med_MH_fac         3140 non-null   float64\n",
      " 12  Med_SA_fac         3140 non-null   float64\n",
      " 13  Med_SMAT_fac       3140 non-null   float64\n",
      " 14  Med_TMAT_fac       3140 non-null   float64\n",
      " 15  PLHIV              3140 non-null   float64\n",
      " 16  Population         3140 non-null   float64\n",
      " 17  SA_fac             3140 non-null   float64\n",
      " 18  SMAT_fac           3140 non-null   float64\n",
      " 19  TMAT_fac           3140 non-null   float64\n",
      " 20  drugdeathrate      3140 non-null   float64\n",
      " 21  drugdeathrate_est  3140 non-null   float64\n",
      " 22  drugdeaths         3140 non-null   float64\n",
      " 23  mme_percap         2963 non-null   float64\n",
      " 24  partD30dayrxrate   3046 non-null   float64\n",
      " 25  pctunins           3140 non-null   float64\n",
      " 26  num_SSPs           3140 non-null   float64\n",
      " 27  bup_phys           3140 non-null   float64\n",
      " 28  drugdep            3139 non-null   float64\n",
      " 29  pctunmetneed       3139 non-null   float64\n",
      " 30  nonmedpain         3139 non-null   float64\n",
      " 31  ADULTMEN           3140 non-null   int64  \n",
      " 32  MSM12MTH           3140 non-null   int64  \n",
      " 33  MSM5YEAR           3140 non-null   int64  \n",
      " 34  %msm12month        3140 non-null   float64\n",
      " 35  %msm5yr            3140 non-null   float64\n",
      " 36  unemployment_rate  3140 non-null   float64\n",
      " 37  poverty_rate       3140 non-null   float64\n",
      " 38  household_income   3140 non-null   int64  \n",
      "dtypes: float64(30), int64(7), object(2)\n",
      "memory usage: 956.8+ KB\n"
     ]
    }
   ],
   "source": [
    "df_main.info()"
   ]
  },
  {
   "cell_type": "code",
   "execution_count": 30,
   "id": "inclusive-abortion",
   "metadata": {},
   "outputs": [
    {
     "data": {
      "text/plain": [
       "(0.0, 200.0)"
      ]
     },
     "execution_count": 30,
     "metadata": {},
     "output_type": "execute_result"
    },
    {
     "data": {
      "image/png": "[encoded data removed]",
      "text/plain": [
       "<Figure size 432x288 with 1 Axes>"
      ]
     },
     "metadata": {
      "needs_background": "light"
     },
     "output_type": "display_data"
    }
   ],
   "source": [
    "plt.hist(df_main['HIVincidence'], bins=400)\n",
    "plt.xlim(left=0, right=200)\n",
    "# plt.ylim(top=250);"
   ]
  },
  {
   "cell_type": "code",
   "execution_count": 7,
   "id": "configured-armenia",
   "metadata": {},
   "outputs": [
    {
     "data": {
      "text/plain": [
       "count    3140.000000\n",
       "mean        4.046911\n",
       "std        16.575690\n",
       "min         0.000000\n",
       "25%         0.000000\n",
       "50%         0.000000\n",
       "75%         0.000000\n",
       "max       771.400000\n",
       "Name: HIVincidence, dtype: float64"
      ]
     },
     "execution_count": 7,
     "metadata": {},
     "output_type": "execute_result"
    }
   ],
   "source": [
    "df_main['HIVincidence'].describe()"
   ]
  },
  {
   "cell_type": "markdown",
   "id": "varying-rochester",
   "metadata": {},
   "source": [
    "Vast majority of counties have an incidence rate of zero."
   ]
  },
  {
   "cell_type": "code",
   "execution_count": 23,
   "id": "flying-cancellation",
   "metadata": {},
   "outputs": [],
   "source": [
    "df_no_outliers = df_main[~((df_main['HIVincidence'] ==0) | (df_main['HIVincidence'] > 100))]"
   ]
  },
  {
   "cell_type": "code",
   "execution_count": 12,
   "id": "impressive-technique",
   "metadata": {},
   "outputs": [
    {
     "data": {
      "text/plain": [
       "HIVincidence         1.000000\n",
       "HIVprevalence        0.421939\n",
       "HIVdiagnoses         0.267121\n",
       "PLHIV                0.221498\n",
       "bup_phys             0.196197\n",
       "drugdeaths           0.195530\n",
       "%msm12month          0.195191\n",
       "%msm5yr              0.195110\n",
       "household_income     0.192512\n",
       "Population           0.185847\n",
       "ADULTMEN             0.184088\n",
       "Med_MH_fac           0.182766\n",
       "MH_fac               0.181823\n",
       "Med_SA_fac           0.176013\n",
       "SMAT_fac             0.173340\n",
       "MSM12MTH             0.169512\n",
       "MSM5YEAR             0.169510\n",
       "SA_fac               0.165988\n",
       "TMAT_fac             0.165896\n",
       "Med_SMAT_fac         0.148172\n",
       "AMAT_fac             0.146125\n",
       "num_SSPs             0.145353\n",
       "Med_TMAT_fac         0.141801\n",
       "unemployment_rate    0.132974\n",
       "drugdep              0.118851\n",
       "Med_AMAT_fac         0.115791\n",
       "drugdeathrate        0.114383\n",
       "poverty_rate         0.091102\n",
       "partD30dayrxrate     0.090035\n",
       "nonmedpain           0.066670\n",
       "pctunins             0.051883\n",
       "pctunmetneed         0.044500\n",
       "mme_percap           0.041639\n",
       "drugdeathrate_est    0.014909\n",
       "county_code         -0.038473\n",
       "Unnamed: 0          -0.041532\n",
       "YEAR                      NaN\n",
       "Name: HIVincidence, dtype: float64"
      ]
     },
     "execution_count": 12,
     "metadata": {},
     "output_type": "execute_result"
    }
   ],
   "source": [
    "df_main.corr()['HIVincidence'].sort_values(ascending=False)"
   ]
  },
  {
   "cell_type": "code",
   "execution_count": 25,
   "id": "caroline-heart",
   "metadata": {},
   "outputs": [
    {
     "data": {
      "text/plain": [
       "count    745.000000\n",
       "mean      15.861745\n",
       "std       12.553282\n",
       "min        1.500000\n",
       "25%        7.400000\n",
       "50%       11.500000\n",
       "75%       21.300000\n",
       "max       90.700000\n",
       "Name: HIVincidence, dtype: float64"
      ]
     },
     "execution_count": 25,
     "metadata": {},
     "output_type": "execute_result"
    }
   ],
   "source": [
    "df_no_outliers['HIVincidence'].describe()"
   ]
  },
  {
   "cell_type": "code",
   "execution_count": 29,
   "id": "genetic-specification",
   "metadata": {},
   "outputs": [
    {
     "data": {
      "text/plain": [
       "HIVincidence         1.000000\n",
       "HIVprevalence        0.712629\n",
       "poverty_rate         0.456296\n",
       "pctunins             0.410541\n",
       "unemployment_rate    0.341830\n",
       "HIVdiagnoses         0.322255\n",
       "PLHIV                0.310832\n",
       "pctunmetneed         0.270963\n",
       "drugdep              0.156056\n",
       "%msm5yr              0.148199\n",
       "%msm12month          0.148175\n",
       "MSM5YEAR             0.146951\n",
       "MSM12MTH             0.146950\n",
       "bup_phys             0.113190\n",
       "AMAT_fac             0.084436\n",
       "nonmedpain           0.082629\n",
       "household_income     0.071924\n",
       "Population           0.070461\n",
       "Med_MH_fac           0.067594\n",
       "ADULTMEN             0.067525\n",
       "MH_fac               0.064977\n",
       "Med_SA_fac           0.061633\n",
       "SMAT_fac             0.060142\n",
       "partD30dayrxrate     0.057615\n",
       "SA_fac               0.048230\n",
       "Med_AMAT_fac         0.046140\n",
       "num_SSPs             0.045063\n",
       "Med_SMAT_fac         0.042629\n",
       "TMAT_fac             0.041488\n",
       "drugdeaths           0.033743\n",
       "Med_TMAT_fac         0.023717\n",
       "county_code         -0.038035\n",
       "Unnamed: 0          -0.042873\n",
       "drugdeathrate_est   -0.126516\n",
       "mme_percap          -0.164437\n",
       "drugdeathrate       -0.268719\n",
       "YEAR                      NaN\n",
       "Name: HIVincidence, dtype: float64"
      ]
     },
     "execution_count": 29,
     "metadata": {},
     "output_type": "execute_result"
    }
   ],
   "source": [
    "df_no_outliers.corr()['HIVincidence'].sort_values(ascending=False)"
   ]
  },
  {
   "cell_type": "markdown",
   "id": "polar-literature",
   "metadata": {},
   "source": [
    "Possible columns to eliminate: HIV diagnoses, PLHIV, %msm12month, MSM12MTH, MSM5YEAR"
   ]
  },
  {
   "cell_type": "code",
   "execution_count": null,
   "id": "duplicate-pharmacology",
   "metadata": {},
   "outputs": [],
   "source": [
    "df_no_outliers.drop(labels=[['%msm12month', 'MSM12MTH', 'MSM5YEAR', 'PLHIV', '']])"
   ]
  }
 ],
 "metadata": {
  "kernelspec": {
   "display_name": "Python 3",
   "language": "python",
   "name": "python3"
  },
  "language_info": {
   "codemirror_mode": {
    "name": "ipython",
    "version": 3
   },
   "file_extension": ".py",
   "mimetype": "text/x-python",
   "name": "python",
   "nbconvert_exporter": "python",
   "pygments_lexer": "ipython3",
   "version": "3.8.8"
  }
 },
 "nbformat": 4,
 "nbformat_minor": 5
}
